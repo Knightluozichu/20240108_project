{
 "cells": [
  {
   "cell_type": "code",
   "execution_count": 1,
   "metadata": {},
   "outputs": [
    {
     "name": "stdout",
     "output_type": "stream",
     "text": [
      "You are old enough to vote.\n"
     ]
    }
   ],
   "source": [
    "# 格式一\n",
    "age = int(input(\"How old are you? \"))\n",
    "if age >= 18:\n",
    "    print(\"You are old enough to vote.\")"
   ]
  },
  {
   "cell_type": "code",
   "execution_count": null,
   "metadata": {},
   "outputs": [],
   "source": [
    "# 格式二\n",
    "age = int(input(\"How old are you? \"))\n",
    "if age >= 18:\n",
    "    print(\"You are old enough to vote.\")\n",
    "else:\n",
    "    print(\"Sorry, you are too young to vote.\")"
   ]
  },
  {
   "cell_type": "code",
   "execution_count": null,
   "metadata": {},
   "outputs": [],
   "source": [
    "# 格式三\n",
    "age = int(input(\"How old are you? \"))\n",
    "if age < 4:\n",
    "    print(\"Your admission cost is $0.\")\n",
    "elif age < 18:\n",
    "    print(\"Your admission cost is $5.\")\n",
    "else:\n",
    "    print(\"Your admission cost is $10.\")"
   ]
  },
  {
   "cell_type": "code",
   "execution_count": 9,
   "metadata": {},
   "outputs": [
    {
     "name": "stdout",
     "output_type": "stream",
     "text": [
      "0\n"
     ]
    }
   ],
   "source": [
    "# 三元表达式\n",
    "# 三元表达式用来实现一些简单的条件语句，会比结构化的代码块更灵活\n",
    "age = int(input(\"How old are you? \"))\n",
    "print(\"20\") if age >=18 else \\\n",
    "print(\"11\") if age >= 10 else \\\n",
    "print(\"0\")"
   ]
  },
  {
   "cell_type": "code",
   "execution_count": 21,
   "metadata": {},
   "outputs": [
    {
     "name": "stdout",
     "output_type": "stream",
     "text": [
      "3\n"
     ]
    }
   ],
   "source": [
    "# random 模块常用函数\n",
    "# random.random() 返回 [0.0, 1.0) 范围内的一个随机浮点数\n",
    "# random.uniform(a, b) 返回 [a, b] 范围内的一个随机浮点数\n",
    "# random.randint(a, b) 返回 [a, b] 范围内的一个随机整数\n",
    "# random.choice(seq) 返回非空序列中的一个随机元素\n",
    "# random.sample(population, k) 从序列中随机获取k个元素，以列表形式返回\n",
    "# random.shuffle(x) 将可变序列 x 随机打乱位置\n",
    "# random.randrange ([start,] stop [,step]) 等效于返回 range([start,] stop [,step]) 中的一个随机元素\n",
    "# random.seed ([x]) 改变随机数生成器的种子 seed，可以在调用其他随机模块函数之前调用此函数\n",
    "\n",
    "import random\n",
    "random.seed(10)\n",
    "print(random.randint(1, 3))"
   ]
  },
  {
   "cell_type": "code",
   "execution_count": 67,
   "metadata": {},
   "outputs": [
    {
     "name": "stdout",
     "output_type": "stream",
     "text": [
      "['999', 'o', '999']\n"
     ]
    }
   ],
   "source": [
    "# 循环语句\n",
    "# while 循环\n",
    "# while 判断条件:\n",
    "# 循环体\n",
    "# while True\n",
    "# 无限循环（俗称：死循环），通常配合 break 使用\n",
    "# while … else...\n",
    "\n",
    "# for 循环\n",
    "# for 变量 in 可迭代对象:\n",
    "# 循环体\n",
    "# for … in … else...\n",
    "\n",
    "# range([start], stop[, step])\n",
    "# 按照 step 生成从 start 到 stop 的整数序列（不可变）\n",
    "# start：起始值，闭区间，默认为 0\n",
    "# stop：结束值，开区间\n",
    "# step：步长，默认为 1\n",
    "\n",
    "# enumerate(iterable, start=0)\n",
    "# 返回一个迭代器对象。迭代它会得到一个个的元组，每个元组是由索引和对应元素\n",
    "# 构成的。start决定索引的起始值。\n",
    "\n",
    "lst =['去你的','o','k']\n",
    "# for i in range(len(lst)):\n",
    "#     lst[i] = '999'\n",
    "# print(lst)\n",
    "i = 0\n",
    "while True:\n",
    "    if i == len(lst):\n",
    "        break\n",
    "    elif i == 1:\n",
    "        i += 1\n",
    "        continue\n",
    "    lst[i] = '999'\n",
    "    i += 1\n",
    "print(lst)\n",
    "# 循环控制语句\n",
    "# break\n",
    "# 终止所在的循环\n",
    "\n",
    "# continue\n",
    "# 跳过当前这次循环，继续到下一次循环"
   ]
  },
  {
   "cell_type": "code",
   "execution_count": 44,
   "metadata": {},
   "outputs": [
    {
     "name": "stdout",
     "output_type": "stream",
     "text": [
      "[0, 1, 2, 3, 4]\n",
      "[1, 3]\n",
      "[2, 3, 4, 4, 5, 6]\n"
     ]
    }
   ],
   "source": [
    "# 推导式\n",
    "# 列表推导式\n",
    "# 格式：[exp for子句]\n",
    "# 格式：[exp for子句 更多的for子句或者if子句]\n",
    "\n",
    "lst = [i for i in range(5)]\n",
    "print(lst)\n",
    "lst = [x  for x in range(5) if x % 2]\n",
    "print(lst)\n",
    "lst = [x + y for x in range(5) if x % 2 for y in (1,2,3)]\n",
    "print(lst)"
   ]
  },
  {
   "cell_type": "code",
   "execution_count": 47,
   "metadata": {},
   "outputs": [
    {
     "name": "stdout",
     "output_type": "stream",
     "text": [
      "{0: 'gun0', 1: 'gun1', 2: 'gun4', 3: 'gun9', 4: 'gun16'}\n"
     ]
    }
   ],
   "source": [
    "# <!-- 字典推导式\n",
    "# 格式：{k: v for子句}\n",
    "# 格式：{k: v for子句 更多的for子句或者if子句} -->\n",
    "\n",
    "dst = { k:'gun'+str(k**2) for k in range(5)}\n",
    "print(dst)"
   ]
  },
  {
   "cell_type": "code",
   "execution_count": null,
   "metadata": {},
   "outputs": [],
   "source": [
    "# 集合推导式\n",
    "# 格式：{exp for子句}\n",
    "# 格式：{exp for子句 更多的for子句或者if子句}\n",
    "\n",
    "s = {x ** 2 for x in range(4)}\n",
    "print(s)"
   ]
  },
  {
   "cell_type": "code",
   "execution_count": 58,
   "metadata": {},
   "outputs": [
    {
     "name": "stdout",
     "output_type": "stream",
     "text": [
      "[2]\n",
      "[2]\n"
     ]
    }
   ],
   "source": [
    "# 迭代问题\n",
    "# 列表迭代问题\n",
    "# 列表内存自动管理：Python的列表会自动管理内存，当对列表插入元素或者删除元素时，\n",
    "# 列表会移动其中的元素以保证元素之间是连续的。\n",
    "\n",
    "# 思考：下面程序的输出结果是什么?\n",
    "lst = [1, 2, 3]\n",
    "for i in lst:\n",
    "    # print(i)\n",
    "    lst.remove(i)\n",
    "print(lst)\n",
    "\n",
    "lst = [1, 2, 3]\n",
    "# 如何才能把元素删完？\n",
    "# 思路：遍历一个元素和原列表一样的新的可迭代对象即可\n",
    "for i in lst[:]:\n",
    "    lst.remove(i)\n",
    "print(lst)"
   ]
  },
  {
   "cell_type": "code",
   "execution_count": 61,
   "metadata": {},
   "outputs": [
    {
     "name": "stdout",
     "output_type": "stream",
     "text": [
      "{}\n",
      "set()\n"
     ]
    }
   ],
   "source": [
    "# 字典迭代问题\n",
    "# 字典、集合在迭代时，不允许改变原数据的size\n",
    "# 场景：需要遍历一个字典或者集合，把其中的元素符合条件的删除\n",
    "\n",
    "d = {'name': 'Tom', 'age': 28, 'height': 177}\n",
    "for k in d.copy():\n",
    "    d.pop(k)\n",
    "print(d)\n",
    "\n",
    "s = {'a', 'b', 'c', 'd', 'f'}\n",
    "for i in s.copy():\n",
    "    s.remove(i)\n",
    "print(s)"
   ]
  },
  {
   "cell_type": "code",
   "execution_count": 64,
   "metadata": {},
   "outputs": [
    {
     "name": "stdout",
     "output_type": "stream",
     "text": [
      "厉害!\n"
     ]
    }
   ],
   "source": [
    "# pass 和 ... 语句\n",
    "# pass 是一个关键字，表示一个空语句，当它被执行时，不做任何操作，通常用作占位符，\n",
    "# 在语法上需要语句但实际上不需要执行任何操作的情况下使用\n",
    "score = float(input('你这次考试考了多少分? '))\n",
    "if score >= 90:\n",
    "    print('厉害!')\n",
    "elif score >= 80:\n",
    "    pass\n",
    "elif score >= 70:\n",
    "    print('良好!')\n",
    "elif score >= 60:\n",
    "    ...\n",
    "else:\n",
    "    print('不及格!')\n"
   ]
  }
 ],
 "metadata": {
  "kernelspec": {
   "display_name": "base",
   "language": "python",
   "name": "python3"
  },
  "language_info": {
   "codemirror_mode": {
    "name": "ipython",
    "version": 3
   },
   "file_extension": ".py",
   "mimetype": "text/x-python",
   "name": "python",
   "nbconvert_exporter": "python",
   "pygments_lexer": "ipython3",
   "version": "3.11.5"
  }
 },
 "nbformat": 4,
 "nbformat_minor": 2
}
