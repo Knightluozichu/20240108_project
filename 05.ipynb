{
 "cells": [
  {
   "cell_type": "markdown",
   "metadata": {},
   "source": [
    "# 元组tuple\n",
    "- 不可变，是序列\n",
    "- 元组用圆括号定义（圆括号可省略），没有元素类型限制"
   ]
  },
  {
   "cell_type": "code",
   "execution_count": 4,
   "metadata": {},
   "outputs": [
    {
     "name": "stdout",
     "output_type": "stream",
     "text": [
      "[1]:(1, 2, 3)\n",
      "[2]:(1, 2, 3)\n",
      "[3]:(1,)\n",
      "[4]:()\n",
      "[5]:()\n",
      "[6]:([0, 2, 3], [4, 5, 6])\n"
     ]
    }
   ],
   "source": [
    "def python_tuple():\n",
    "    t = (1,2,3)\n",
    "    print(fr'[1]:{t}')\n",
    "    t = 1,2,3\n",
    "    print(fr'[2]:{t}')\n",
    "    t = 1,\n",
    "    print(fr'[3]:{t}')\n",
    "    t = ()\n",
    "    print(fr'[4]:{t}')\n",
    "    t = tuple()\n",
    "    print(fr'[5]:{t}')\n",
    "    # 元组是不可变的, 但其中的可变成员仍然可以被改变\n",
    "    t = ([1,2,3],[4,5,6])\n",
    "    t[0][0] = 0\n",
    "    print(fr'[6]:{t}')\n",
    "\n",
    "python_tuple()"
   ]
  },
  {
   "cell_type": "markdown",
   "metadata": {},
   "source": [
    "# tuple([iterable])\n",
    "- 将一个iterable对象转化为元组并返回，如果没有实参，则返回空元组"
   ]
  },
  {
   "cell_type": "code",
   "execution_count": 8,
   "metadata": {},
   "outputs": [
    {
     "name": "stdout",
     "output_type": "stream",
     "text": [
      "()\n",
      "('h', 'e', 'l', 'l', 'o')\n",
      "(1, 2, 3)\n",
      "(1, 3)\n",
      "('c', 789, 456, 'b', 'a')\n",
      "<class 'set'>\n"
     ]
    }
   ],
   "source": [
    "def python_tuple():\n",
    "    print(tuple())\n",
    "    print(tuple(\"hello\"))\n",
    "    print(tuple([1, 2, 3]))\n",
    "    # 字典作为一个iterable, 只有键参与迭代\n",
    "    print(tuple({1: 2, 3: 4}))\n",
    "    print(tuple({'a', 'b', 'c', 789, 456}))\n",
    "    print(type({'a', 'b', 'c', 789, 456}))\n",
    "    \n",
    "python_tuple()"
   ]
  },
  {
   "cell_type": "markdown",
   "metadata": {},
   "source": [
    "# 元组对象方法\n",
    "- tuple.count(x)\n",
    "  - 返回元素 x 在元组中出现的次数\n",
    "- tuple.index(x[, start[, end]])\n",
    "  - x：要找的值\n",
    "  - start：起始索引，默认为 0\n",
    "  - end：结束索引（开区间），默认为 len(list)\n",
    "  - 返回从左边开始第一次找到指定值时的正向索引，找不到报错"
   ]
  },
  {
   "cell_type": "code",
   "execution_count": 23,
   "metadata": {},
   "outputs": [
    {
     "name": "stdout",
     "output_type": "stream",
     "text": [
      "3\n",
      "[1]:4\n"
     ]
    }
   ],
   "source": [
    "def python_tuple():\n",
    "    t = (1,2,3,2,2,'2',(2,),[1,3,2])\n",
    "    print(t.count(2))\n",
    "    i = t.index(2,4,5)\n",
    "    print(fr'[1]:{i}')\n",
    "    \n",
    "python_tuple()"
   ]
  },
  {
   "cell_type": "markdown",
   "metadata": {},
   "source": [
    "# 字典（Dictionary）\n",
    "- 可变，不是序列\n",
    "- 字典用花括号定义，每个元素都是键值对的形式 key: value\n",
    "- 字典的键不能存在可变的数据；值没有限制。\n",
    "- 字典的键如果重复，会自动去重，保留第一个重复键，并且其它重复的键对应的值\n",
    "- 还会对第一个重复键对应的值进行修改；值可以重复。\n",
    "- 当字典作为一个iterable对象参与操作时，只有键参与迭代。"
   ]
  },
  {
   "cell_type": "code",
   "execution_count": 57,
   "metadata": {},
   "outputs": [
    {
     "name": "stdout",
     "output_type": "stream",
     "text": [
      "[1]:{'a': 1, (1+2j): 2, 33: 3}\n",
      "[2]:{'a': 1, 'b': 2, 'c': 3}\n",
      "[3]:{'a': 1, 'b': 2, 'c': 3}\n",
      "[4]:{'a': 1, 'b': 2, 'c': 3}\n",
      "[5]:{'a': [1, 2], 'b': [1, 2], 'c': [1, 2]}--<class 'dict'>\n",
      "[6]:{'a': 0, 'b': [1, 2], 'c': [1, 2]}\n",
      "[7]:{'a': 0, 'b': [1, 2], 'c': [1, 2], 'd': '213'}\n",
      "dict\n"
     ]
    }
   ],
   "source": [
    "def python_dictionary():\n",
    "    #创建\n",
    "    d = dict({'a':1,(complex(1,2)):2,33:3})\n",
    "    print(fr'[1]:{d}')\n",
    "    d = dict(a=1,b=2,c=3)\n",
    "    print(fr'[2]:{d}')\n",
    "    d = dict([('a',1),('b',2),('c',3)])\n",
    "    print(fr'[3]:{d}')\n",
    "    d = dict(zip(['a','b','c'],[1,2,3]))\n",
    "    print(fr'[4]:{d}')\n",
    "    d = dict.fromkeys(['a','b','c'],[1,2])\n",
    "    print(fr'[5]:{d}--{type(d)}')\n",
    "    #修改\n",
    "    d['a'] = 0\n",
    "    print(fr'[6]:{d}')\n",
    "    d['d'] = '213'\n",
    "    print(fr'[7]:{d}')\n",
    "    #删除\n",
    "    #查询\n",
    "    print('dict')\n",
    "\n",
    "python_dictionary()"
   ]
  },
  {
   "cell_type": "markdown",
   "metadata": {},
   "source": [
    "# dict.keys() 返回由字典键组成的一个新视图,返回的对象是视图对象，这意味着当字典改变时，视图也会相应改变\n",
    "# dict.values() 返回由字典值组成的一个新视图 返回的对象是视图对象，这意味着当字典改变时，视图也会相应改变\n",
    "# dict.items() 返回由字典键值对组成的一个新视图 返回的对象是视图对象，这意味着当字典改变时，视图也会相应改变\n",
    "# dict.get(key, default=None) key：键 default：如果指定的键不存在时，返回该值，默认为 None 返回指定的键 key 对应的值, 如果 key 不在字典中，则返回 default\n",
    "# dict.update([other]) 使用来自 other 更新字典，没有返回值 可以像 dict() 那样传参\n",
    "# dict.pop(key[, default]) key：键 default：指定当键不存在时应该返回的值 移除指定的键所对应的键值对 , 并返回该键对应的值, 如果该键不在字典中，则返回 default 指定的值 如果 default 未指定值且指定的键不存在于字典中，则报错\n",
    "# dict.popitem() 从字典中移除最后一个键值对, 并返回它们构成的元组 (键, 值)\n",
    "# dict.setdefault(key, default=None) 如果字典存在指定的键，则返回它的值 如果不存在，返回 default 指定的值，并且新增该键值对\n",
    "# dict.copy() 返回原字典的浅拷贝\n",
    "# dict.clear() 移除字典中的所有元素，无返回值\n"
   ]
  },
  {
   "cell_type": "code",
   "execution_count": 63,
   "metadata": {},
   "outputs": [
    {
     "name": "stdout",
     "output_type": "stream",
     "text": [
      "dict_items([('name', 'Tom'), ('age', 15), ('height', 162)])\n",
      "dict_keys(['name', 'age', 'height'])\n",
      "dict_keys(['name', 'age', 'height', 'weight'])\n",
      "dict_items([('name', 'Tom'), ('age', 15), ('height', 162), ('weight', 59)])\n",
      "[0]:{'name': 'Tom', 'age': 15, 'height': 162}\n",
      "[1]:{'name': 'Tom', 'age': 18, 'height': 162, 'weight': 59}\n",
      "15\n",
      "[2]:{'name': 'Tom', 'age': 15, 'height': 162}\n",
      "None\n",
      "[3]:{'name': 'Tom', 'age': 15, 'height': 162, 'weight': None}\n"
     ]
    }
   ],
   "source": [
    "def python_dictionary():\n",
    "    d = {'name': 'Tom', 'age': 15, 'height': 162}\n",
    "    view_keys = d.keys()\n",
    "    view_items = d.items()\n",
    "    print(view_items)\n",
    "    print(view_keys)\n",
    "    # 修改字典\n",
    "    d['weight'] = 59\n",
    "    print(view_keys)\n",
    "    print(view_items)\n",
    "    d = {'name': 'Tom', 'age': 15, 'height': 162}\n",
    "    print(f'[0]:{d}')    \n",
    "    d.update(age=18, weight=59)\n",
    "    print(f'[1]:{d}')\n",
    "    d = {'name': 'Tom', 'age': 15, 'height': 162}\n",
    "    print(d.setdefault('age'))\n",
    "    print(f'[2]:{d}')\n",
    "    print(d.setdefault('weight'))\n",
    "    print(f'[3]:{d}')\n",
    "\n",
    "python_dictionary()"
   ]
  },
  {
   "cell_type": "markdown",
   "metadata": {},
   "source": [
    "# 集合（Set）\n",
    "- 可变，不是序列\n",
    "- 集合也用花括号定义，但其中的元素不是键值对\n",
    "- 集合中不能存在可变的数据\n",
    "- 集合是无序的\n",
    "- 集合的元素如果重复，会自动去重\n",
    "- 创建空集合必须用 set()，因为 { } 是用来创建空字典的\n",
    "- set([iterable]) 将一个iterable对象转化为集合并返回，如果没有实参，则返回空集合\n",
    "- 利用集合特性，可以用来 去重 和 关系测试"
   ]
  },
  {
   "cell_type": "code",
   "execution_count": 80,
   "metadata": {},
   "outputs": [
    {
     "name": "stdout",
     "output_type": "stream",
     "text": [
      "set()\n",
      "{}\n",
      "{(135,), 'world', 789, 456, 'hello'}\n",
      "True\n",
      "True\n",
      "{'e', 'g', 'f', 'd', 'c'}\n",
      "set()\n",
      "{'e', 'g', 'b', 'f', 'd', 'c', 'a'}\n",
      "{'a', 'b'}\n",
      "{'e', 'g', 'f', 'd', 'c'}\n"
     ]
    }
   ],
   "source": [
    "def python_set():\n",
    "    # a = [1,2]\n",
    "    # 空集合\n",
    "    s = set()\n",
    "    print(s)\n",
    "    # 空字典\n",
    "    d = {} # d = dict()\n",
    "    print(d)\n",
    "    # 集合中不能存在可变的数据\n",
    "    s = {789, 456, \"hello\", (135,), 'world'}\n",
    "    print(s)\n",
    "    # 集合可以利用操作符做关系测试\n",
    "    a = set('abdefgac')\n",
    "    b = set('ab')\n",
    "    c = set('aef')\n",
    "    print(a >= b) # 判断a是否为b的父集\n",
    "    print(c < a) # 判断c是否是a的真子集\n",
    "    print(a - b) # 返回a和b的差集\n",
    "    print(b - a) # 返回b和a的差集\n",
    "    print(a | b) # 返回a和b的并集\n",
    "    print(a & b) # 返回a和b的交集\n",
    "    print(a ^ b) # 返回a和b的对称差集\n",
    "    \n",
    "python_set()"
   ]
  },
  {
   "cell_type": "markdown",
   "metadata": {},
   "source": [
    "# 集合对象方法\n",
    "# set.update(*others) others：Iterable 更新集合，添加来自 others 中的所有元素\n",
    "# set.add(elem) 将元素 elem 添加到集合中。如果元素已经存在，则没有影响\n",
    "# set.remove(elem) 从集合中移除元素 elem。 如果 elem 不存在，则报错\n",
    "# set.discard(elem) 从集合中移除元素 elem。 如果 elem 不存在，则不做任何操作\n",
    "# set.pop() 从集合中移除并返回任意一个元素。如果集合为空，则报错\n",
    "# set.copy() 返回原集合的浅拷贝\n",
    "# set.clear() 从集合中移除所有元素"
   ]
  },
  {
   "cell_type": "markdown",
   "metadata": {},
   "source": [
    "# 序列的索引和切片\n",
    "- 六种标准数据类型中是序列的有：字符串、列表、元组\n",
    "- 所以它们都可以通过索引和切片的方式来访问其中的元素\n",
    "- 序列索引\n",
    "# seq[start: end: step]\n",
    "  - start: 起始索引，闭区间\n",
    "    - 步长为正数，start没有指定，默认为0\n",
    "    - 步长为负数，start没有指定，默认为-1\n",
    "  - end: 结束索引，开区间\n",
    "    - 步长为正数，end没有指定，默认为len(seq)\n",
    "    - 步长为负数，end没有指定，默认为-len(seq)-1\n",
    "  - step: 步长，没有指定时，默认为1\n",
    "    - 步长为正数，表示从左往右取数据\n",
    "    - 步长为负数，表示从右往左取数据\n",
    "  - 如果start到end的方向和step的正负性不一致，则得到空序列\n",
    "  - 索引超出范围会报错，但切片不会\n",
    "  - 特点：索引会降维，切片不会降维\n",
    "# len(s)\n",
    "- s 可以是序列（如 string、tuple、list 或 range 等）/ 字典 / 集合等\n",
    "- 返回对象的长度（即元素个数"
   ]
  },
  {
   "cell_type": "markdown",
   "metadata": {},
   "source": [
    "# del 语句\n",
    "del 语句不是直接删除数据，而是解除对应的引用，当该数据的引用计数为0时，该数据就\n",
    "变为了一个可回收的对象，然后内存会被自动回收。"
   ]
  },
  {
   "cell_type": "code",
   "execution_count": 106,
   "metadata": {},
   "outputs": [
    {
     "name": "stdout",
     "output_type": "stream",
     "text": [
      "[567, 'hello', 456, [912, 923], 'world']\n",
      "[567, 456, [912, 923], 'world']\n",
      "[456, [912, 923]]\n",
      "[[912, 923]]\n",
      "[]\n",
      "el o\n",
      "or\n",
      "3\n",
      "hello \n"
     ]
    }
   ],
   "source": [
    "def python_del():\n",
    "    lst1 = [567, 'hello', 456, [912, 923], 'world']\n",
    "    lst2 = lst1\n",
    "    del lst1\n",
    "    # print(lst1)\n",
    "    print(lst2)\n",
    "    del lst2[1]\n",
    "    print(lst2)\n",
    "    del lst2[0], lst2[2]\n",
    "    print(lst2)\n",
    "    del lst2[:3:2]\n",
    "    print(lst2)\n",
    "    # del lst2[3][0]\n",
    "    # print(lst2)\n",
    "    del lst2[:]\n",
    "    print(lst2)\n",
    "    string = 'hello world'\n",
    "    s = string[1 : 8 : 2]\n",
    "    print(s)\n",
    "    s = string[-4 : -2:1 ]\n",
    "    print(s)\n",
    "    s = string[-2 : 4 : -2]\n",
    "    print(len(s))\n",
    "    s = string[: 6]\n",
    "    print(s)\n",
    "    \n",
    "python_del()"
   ]
  }
 ],
 "metadata": {
  "kernelspec": {
   "display_name": "base",
   "language": "python",
   "name": "python3"
  },
  "language_info": {
   "codemirror_mode": {
    "name": "ipython",
    "version": 3
   },
   "file_extension": ".py",
   "mimetype": "text/x-python",
   "name": "python",
   "nbconvert_exporter": "python",
   "pygments_lexer": "ipython3",
   "version": "3.11.5"
  }
 },
 "nbformat": 4,
 "nbformat_minor": 2
}
