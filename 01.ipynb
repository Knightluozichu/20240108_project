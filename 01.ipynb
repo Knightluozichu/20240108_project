{
 "cells": [
  {
   "cell_type": "code",
   "execution_count": 2,
   "metadata": {},
   "outputs": [
    {
     "name": "stdout",
     "output_type": "stream",
     "text": [
      "jupyter notebook\n"
     ]
    }
   ],
   "source": [
    "def python_01():\n",
    "    print(\"执行第1行啦\")\n",
    "    print(2 / 1)\n",
    "    print(\"执行第3行啦\")\n",
    "    a = 123\n",
    "    print(a)\n",
    "\n",
    "    def add(left, right):\n",
    "        print(\"执行第9行啦\")\n",
    "        print(\"执行第10行啦\", left + right)\n",
    "\n",
    "    print(\"执行第13行啦\")\n",
    "    add(3, 4)\n",
    "    a = 124\n",
    "    print(a)\n",
    "    print(\"执行第17行啦\")\n",
    "\n",
    "\n",
    "def python_03():\n",
    "    \"\"\"\n",
    "    1. 缩进,是语法是格式,不一定是4个空格,但是要保持一致,[条件语句-循环语句-函数定义],用来表示代码的层次结构\n",
    "    2. 注释：#  单行注释, \"\"\" \"\"\"  多行注释\n",
    "    3. 拼接: 显示的-反斜杠, 或者隐式的-用括号括起来\n",
    "        a = 1 + 2 + 3 + 4 + 5 + 6 + 7 + 8 + 9 + 10\n",
    "        a = 1 + 2 + 3 + 4 + 5 + \\\n",
    "            6 + 7 + 8 + 9 + 10\n",
    "        a = (1 + 2 + 3 + 4 + 5 +\n",
    "             6 + 7 + 8 + 9 + 10)\n",
    "    4. 变量: 用来存储数据的容器,先定义再使用,变量名=值,\n",
    "        a.标识符的命名规则: 1. 由数字,字母,下划线组成 2. 不能以数字开头 3. 不能是关键字\n",
    "        b.变量名是标识符,用于变量-函数-类-模块-包等的名称\n",
    "        c.关键字查询\n",
    "    5. 內置函數: \n",
    "        a.python解釋器内置了很多函数和类型,可以直接使用\n",
    "        b.查看内置函数: dir(__builtins__)以及    import builtins    print(dir(builtins))\n",
    "    6. 常量: 用来存储不变的数据,一般用大写字母表示,但是python没有常量的概念,只是约定俗成\n",
    "    7. 输出: print(*values, sep='', end='\\n', file=sys.stdout, flush=False)\n",
    "    8. 输入: input([prompt]) 接受一个标准输入数据,返回为字符串类型\n",
    "    \"\"\"\n",
    "\n",
    "    # import keyword\n",
    "\n",
    "    # print(keyword.kwlist)\n",
    "    # print(dir(__builtins__))\n",
    "\n",
    "    # import builtins\n",
    "\n",
    "    # print(dir(builtins))\n",
    "\n",
    "    # PI = 3.1415926\n",
    "\n",
    "    # print(1, 2, 3, sep=\"-\", end=\"-456\")\n",
    "\n",
    "    # with open(\"./01_write.txt\", \"w\") as f:\n",
    "    #     print(\"123\", file=f)\n",
    "\n",
    "    # import time\n",
    "\n",
    "    # # 不使用flush，输出会在循环结束后一次性显示\n",
    "    # for i in range(5):\n",
    "    #     print(\".\", end=\"\", flush=False)\n",
    "    #     time.sleep(0.5)\n",
    "    # print()\n",
    "\n",
    "    # # 使用flush，输出会在每次循环时立即显示\n",
    "    # for i in range(5):\n",
    "    #     print(\".\", end=\"\", flush=True)\n",
    "    #     time.sleep(0.5)\n",
    "\n",
    "    ipt = input(\"请输入:\")\n",
    "    print(\"输入[\" + ipt + \"]结束\")\n",
    "    abs(-1)\n",
    "\n",
    "\n",
    "# python_03()"
   ]
  }
 ],
 "metadata": {
  "kernelspec": {
   "display_name": "base",
   "language": "python",
   "name": "python3"
  },
  "language_info": {
   "codemirror_mode": {
    "name": "ipython",
    "version": 3
   },
   "file_extension": ".py",
   "mimetype": "text/x-python",
   "name": "python",
   "nbconvert_exporter": "python",
   "pygments_lexer": "ipython3",
   "version": "3.11.5"
  }
 },
 "nbformat": 4,
 "nbformat_minor": 2
}
