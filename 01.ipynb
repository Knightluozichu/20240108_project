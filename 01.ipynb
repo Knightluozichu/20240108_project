{
 "cells": [
  {
   "cell_type": "code",
   "execution_count": 2,
   "metadata": {},
   "outputs": [
    {
     "name": "stdout",
     "output_type": "stream",
     "text": [
      "jupyter notebook\n"
     ]
    }
   ],
   "source": [
    "def python_01():\n",
    "    print(\"执行第1行啦\")\n",
    "    print(2 / 1)\n",
    "    print(\"执行第3行啦\")\n",
    "    a = 123\n",
    "    print(a)\n",
    "\n",
    "    def add(left, right):\n",
    "        print(\"执行第9行啦\")\n",
    "        print(\"执行第10行啦\", left + right)\n",
    "\n",
    "    print(\"执行第13行啦\")\n",
    "    add(3, 4)\n",
    "    a = 124\n",
    "    print(a)\n",
    "    print(\"执行第17行啦\")\n",
    "\n",
    "\n",
    "# python_03()"
   ]
  }
 ],
 "metadata": {
  "kernelspec": {
   "display_name": "base",
   "language": "python",
   "name": "python3"
  },
  "language_info": {
   "codemirror_mode": {
    "name": "ipython",
    "version": 3
   },
   "file_extension": ".py",
   "mimetype": "text/x-python",
   "name": "python",
   "nbconvert_exporter": "python",
   "pygments_lexer": "ipython3",
   "version": "3.11.5"
  }
 },
 "nbformat": 4,
 "nbformat_minor": 2
}
