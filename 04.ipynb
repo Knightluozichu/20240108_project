{
 "cells": [
  {
   "cell_type": "code",
   "execution_count": null,
   "metadata": {},
   "outputs": [],
   "source": []
  },
  {
   "cell_type": "markdown",
   "metadata": {},
   "source": [
    "# 列表(List)\n",
    "- 可变, 是序列\n",
    "- 用方括弧定义, 没有元素类型限制"
   ]
  },
  {
   "cell_type": "code",
   "execution_count": 4,
   "metadata": {},
   "outputs": [
    {
     "name": "stdout",
     "output_type": "stream",
     "text": [
      "[]\n",
      "['123', 123]\n",
      "['1', '2', '3']\n",
      "[0, 1, 2, 3, 4, 5, 6, 7, 8, 9]\n",
      "[[1], 1, '1', [1, '1', [1]]]\n"
     ]
    }
   ],
   "source": [
    "def python_list_def():\n",
    "    list01 = []\n",
    "    list02 = ['123', 123]\n",
    "    list03 = list('123')\n",
    "    list04 = list(range(10))\n",
    "    list05 = [[1],1,'1',[1,'1',[1]]]\n",
    "    print(list01)\n",
    "    print(list02)\n",
    "    print(list03)\n",
    "    print(list04)\n",
    "    print(list05)\n",
    "\n",
    "python_list_def()"
   ]
  },
  {
   "cell_type": "markdown",
   "metadata": {},
   "source": [
    "# 修改列表\n",
    "- 列表是可变的, 可以通过索引和切片来修改列表元素\n",
    "- 索引:index['apple','bnana'],第一个元素'apple'所在索引为0,此后索引自+，'bnana'所在索引为1\n",
    "- 切片:lst[start: end: step] = iterable"
   ]
  },
  {
   "cell_type": "code",
   "execution_count": 21,
   "metadata": {},
   "outputs": [
    {
     "name": "stdout",
     "output_type": "stream",
     "text": [
      "[567, 'hello', 78.9, 'world', False]\n",
      "['a', 'b', 'c', 567, 'hello', 78.9, 'world', False]\n"
     ]
    }
   ],
   "source": [
    "def python_lst_index():\n",
    "    lst = [567, 'hello', 78.9, 'world', False]\n",
    "    # print(lst)\n",
    "    # lst[0] = 111\n",
    "    # print(lst)\n",
    "    # lst[len(lst)-1] = 'ppp'\n",
    "    print(lst)\n",
    "    # print(lst[0:4:1])\n",
    "    # 修改一个元素, 1 => 1\n",
    "    # lst[2:3] = [9.87]\n",
    "    # print(lst)\n",
    "    # # 修改一个元素, 1 => n\n",
    "    # lst[2:3] = [7, 8, 9]\n",
    "    # print(lst)\n",
    "    # # 删除一个元素, 1 => 0\n",
    "    # lst[2:3] = []\n",
    "    # print(lst)\n",
    "    # # 修改多个连续的元素, n => n\n",
    "    # lst[2:4] = [9.87, 'dlrow']\n",
    "    # print(lst)\n",
    "    # 修改多个不连续的元素, n => n\n",
    "    # lst[0:3:2] = [9.87, 'dlrow']\n",
    "    # # 修改多个连续的元素, n => m\n",
    "    # lst[2:4] = [1,2,3,4]\n",
    "    # # 删除多个连续的元素, n => 0\n",
    "    # lst[2:4] = []\n",
    "    # # 修改多个非连续的元素, 只能 n => n\n",
    "    # lst[0:3:2] = [9.87, 'dlrow']\n",
    "    # # 插入一个元素\n",
    "    # lst[0:0] = [9.87]\n",
    "    # lst[len(lst):] = ['c']\n",
    "    # 插入多个元素\n",
    "    lst[0:0] = ['a', 'b', 'c']\n",
    "    print(lst)\n",
    "\n",
    "python_lst_index()"
   ]
  },
  {
   "cell_type": "markdown",
   "metadata": {},
   "source": [
    "# list([iterable])\n",
    "- 将一个iterable对象转化为列表并返回，如果没有实参，则返回空列表"
   ]
  },
  {
   "cell_type": "code",
   "execution_count": 22,
   "metadata": {},
   "outputs": [
    {
     "name": "stdout",
     "output_type": "stream",
     "text": [
      "[]\n",
      "['h', 'e', 'l', 'l', 'o']\n",
      "[1, 2, 3]\n",
      "[1, 3]\n",
      "['c', 789, 456, 'a', 'b']\n"
     ]
    }
   ],
   "source": [
    "def python_lst_list():\n",
    "    print(list())\n",
    "    print(list(\"hello\"))\n",
    "    print(list((1, 2, 3)))\n",
    "    # 字典作为一个iterable, 只有键参与迭代\n",
    "    print(list({1: 2, 3: 4}))\n",
    "    print(list({'a', 'b', 'c', 789, 456}))\n",
    "\n",
    "python_lst_list()"
   ]
  },
  {
   "cell_type": "markdown",
   "metadata": {},
   "source": [
    "# 列表对象方法\n",
    "- list.append(x)\n",
    "  - 在列表的末尾添加一个元素, 无返回值, 相当于lst[len(lst):] = x\n",
    "- list.extend(iterable)\n",
    "  - 使用iterable中所有元素来扩展列表,无返回值,相当于lst[len(lst):] = iterable\n",
    "- list.insert(i,x)\n",
    "  - i:要插入的元素的索引\n",
    "  - x:要插入的元素\n",
    "  - 在指定的位置插入一个元素,无返回值\n",
    "- list.sort([key], reverse=False)\n",
    "  - key：指定一个函数, 在排序之前, 列表每个元素先应用这个函数，再根据返回值对原数据进行排序\n",
    "  - reverse：默认为 False，代表升序，指定为 True 则为降序\n",
    "  - 对原列表进行排序，无返回值\n",
    "- sorted(iterable, [key], reverse=False)\n",
    "  - iterable：可迭代对象（字符串，列表，元组，字典，集合等）\n",
    "  - key：指定一个函数, 在排序之前, 每个元素都先应用这个函数之后再排序\n",
    "  - reverse：默认为 False，代表升序，指定为 True 则为降序\n",
    "  - 对可迭代对象进行排序，以列表形式返回排序之后的结果\n",
    "- list.reverse()\n",
    "  - 把列表中的元素倒过来，无返回值\n",
    "- reversed(seq)\n",
    "  - 返回给定序列的反向迭代器\n",
    "- list.count(x)\n",
    "  - 返回x元素在list中出现的次数\n",
    "- list.index(x[, start[, end]])\n",
    "  - x：要找的值\n",
    "  - start：起始索引，默认为 0\n",
    "  - end：结束索引（开区间），默认为 len(list)\n",
    "  - 返回从左边开始第一次找到指定值时的正向索引，找不到报错\n",
    "- list.pop([i])\n",
    "  - i：要删除元素的索引\n",
    "  - 删除列表中指定索引的元素并返回该元素\n",
    "  - 如果没有指定索引，将会删除并返回列表中的最后一个元素\n",
    "- list.remove(x)\n",
    "  - 删除列表中从左往右遇到的第一个x元素，无返回值\n",
    "  - 如果没有这样的元素，则报错\n",
    "- list.copy()\n",
    "  - 返回列表的一个浅拷贝，等价于 a[:]\n",
    "- list.clear()\n",
    "  - 移除列表中的所有元素，无返回值，等价于 del a[:]"
   ]
  },
  {
   "cell_type": "code",
   "execution_count": 50,
   "metadata": {},
   "outputs": [
    {
     "name": "stdout",
     "output_type": "stream",
     "text": [
      "[1]: []\n",
      "[2]: [['hello', {1, 'a'}, True]]\n",
      "[3]: [['hello', {1, 'a'}, True], 1, 2, 3]\n",
      "[4]: [['hello', {1, 'a'}, True], 'world', 1, 2, 3]\n",
      "[5]: [1, 2, -3, -5]\n",
      "[6]: 2\n",
      "[7]: 4\n",
      "[8]: 3\n",
      "[9]: [1, 2, 2, '23', [2, 4]]\n",
      "[10]: [2, 4]\n",
      "[11]: [1, 2, 2, '23']\n",
      "[12]: [1, 2, '23']\n",
      "[13]: a: [{'a': 1, 'b': 2}, [0, 1], 1, 2, 3]\n",
      "[14]: b: [{'a': 1, 'b': 2}, [0, 1], 1, 2, 3]\n",
      "[15]: lst: [{'a': 99, 'b': 2}, [100, 1], 1, 2, 3]  a: [{'a': 99, 'b': 2}, [100, 1], 1, 2, 3]  b: [{'a': 1, 'b': 2}, [0, 1], 1, 2, 3]\n",
      "[16]: a: [{'a': 99, 'b': 2}, [100, 1], 1, 2, 3]  b: [{'a': 1, 'b': 2}, [0, 1], 1, 2, 3]\n"
     ]
    }
   ],
   "source": [
    "def python_lst_method():\n",
    "    lst = list()\n",
    "    print('[1]:' , lst)\n",
    "    lst.append(['hello', {'a',1},True])\n",
    "    print('[2]:' , lst)\n",
    "    lst.extend([1,2,3])\n",
    "    print('[3]:' , lst)\n",
    "    lst.insert(1, 'world')\n",
    "    print('[4]:' , lst)\n",
    "    lst = [1, 2, -5, -3]\n",
    "    lst.sort(key=abs)\n",
    "    print('[5]:' , lst)\n",
    "    lst = [1, 2, 3, 2, '23', [2, 4]]\n",
    "    print('[6]:' , lst.count(2))\n",
    "    print('[7]:' , lst.index('23',0,5))\n",
    "    print('[8]:' , lst.pop(2))\n",
    "    print('[9]:' , lst)\n",
    "    print('[10]:' , lst.pop())\n",
    "    print('[11]:' , lst)\n",
    "    lst.remove(2)\n",
    "    print('[12]:' , lst)\n",
    "    lst = [1,2,3]\n",
    "    lst[0:0] = [{'a':1,'b':2},[0,1]]\n",
    "    a = lst.copy()\n",
    "    import copy\n",
    "    b = copy.deepcopy(lst)\n",
    "    print('[13]: a:' , a)\n",
    "    print('[14]: b:' , b)\n",
    "    lst[0]['a'] = 99\n",
    "    lst[1][0] = 100\n",
    "    print('[15]: lst:' , lst, ' a:',a,' b:' , b)\n",
    "    # b[0] = {a:3,b:4}\n",
    "    lst.clear()\n",
    "    print('[16]: a:',a,' b:' , b)\n",
    "    \n",
    "    \n",
    "python_lst_method()"
   ]
  }
 ],
 "metadata": {
  "kernelspec": {
   "display_name": "base",
   "language": "python",
   "name": "python3"
  },
  "language_info": {
   "codemirror_mode": {
    "name": "ipython",
    "version": 3
   },
   "file_extension": ".py",
   "mimetype": "text/x-python",
   "name": "python",
   "nbconvert_exporter": "python",
   "pygments_lexer": "ipython3",
   "version": "3.11.5"
  }
 },
 "nbformat": 4,
 "nbformat_minor": 2
}
