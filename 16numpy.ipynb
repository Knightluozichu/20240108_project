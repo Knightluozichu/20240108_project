{
 "cells": [
  {
   "cell_type": "markdown",
   "metadata": {},
   "source": [
    "# 了解numpy\n",
    "- numpy的数组和python列表的区别\n",
    "- 创建numpy数组\n",
    "- [[100,100],[1],[9]]"
   ]
  },
  {
   "cell_type": "code",
   "execution_count": 5,
   "metadata": {},
   "outputs": [
    {
     "name": "stdout",
     "output_type": "stream",
     "text": [
      "[1. 2. 3. 4. 5.]\n",
      "1\n",
      "float64\n",
      "(5,)\n",
      "5\n",
      "8\n"
     ]
    }
   ],
   "source": [
    "import numpy as np\n",
    "\n",
    "array = np.array([1,2,3,4,5], dtype=np.float64)\n",
    "print(array)\n",
    "print(array.ndim)\n",
    "print(array.dtype)\n",
    "print(array.shape)\n",
    "print(array.size)\n",
    "print(array.itemsize)"
   ]
  },
  {
   "cell_type": "code",
   "execution_count": 6,
   "metadata": {},
   "outputs": [
    {
     "name": "stdout",
     "output_type": "stream",
     "text": [
      "[[1 2 3]\n",
      " [4 5 6]]\n",
      "[[1 2 3]\n",
      " [4 5 6]]\n",
      "[[1 2 3]\n",
      " [4 5 6]]\n"
     ]
    }
   ],
   "source": [
    "arr = np.array([[1,2,3],[4,5,6]])\n",
    "print(arr)\n",
    "arr1 = np.copy(arr) #deep copy \n",
    "print(arr1)\n",
    "arr2 = arr.copy() #deep copy\n",
    "print(arr2)\n",
    "arr3 = arr #shallow copy\n",
    "arr4 = arr.view() #shallow copy 独立的形状和步幅信息，但是共享数据\n"
   ]
  },
  {
   "cell_type": "code",
   "execution_count": 19,
   "metadata": {},
   "outputs": [
    {
     "name": "stdout",
     "output_type": "stream",
     "text": [
      "[[100   0]\n",
      " [  1   0]\n",
      " [  9   0]] \n",
      " (3, 2) 2 6 4\n",
      "[[100]\n",
      " [  1]\n",
      " [  9]]\n",
      "(3, 1) 2 3 8\n",
      "[0. 0. 0. 0. 0.]\n",
      "[[7 7]\n",
      " [7 7]]\n",
      "[[0 0]\n",
      " [0 0]]\n"
     ]
    }
   ],
   "source": [
    "'''\n",
    "从形状或者值创建\n",
    "'''\n",
    "# empty 接受shape参数，返回一个新的数组，只分配内存空间但不填充任何值\n",
    "arr = np.empty(shape=(3,2),dtype=np.int32)\n",
    "print(arr, '\\n',arr.shape,arr.ndim,arr.size,arr.itemsize)\n",
    "# empty_like 接受一个数组作为参数，返回一个新的数组，只分配内存空间但不填充任何值\n",
    "'''\n",
    "arr1 = [[100,100],[1],[9]]\n",
    "NumPy的数组必须是规则的，也就是说，它们的所有维度都必须有相同的长度。\n",
    "'''\n",
    "arr1 = [[100],[1],[9]]\n",
    "arr2 = np.empty_like(arr1)\n",
    "print(arr2)\n",
    "print(arr2.shape,arr2.ndim,arr2.size,arr2.itemsize)\n",
    "# np.zeros np.zeros_like np.ones np.ones_like\n",
    "print(np.zeros((5,)))\n",
    "# np.full np.full_like\n",
    "print(np.full((2,2),7))\n",
    "# np.eye 单位矩阵\n",
    "print(np.eye(2,M=2,k=2,dtype=np.int32))"
   ]
  },
  {
   "cell_type": "code",
   "execution_count": 25,
   "metadata": {},
   "outputs": [
    {
     "name": "stdout",
     "output_type": "stream",
     "text": [
      "[10 12 14 16 18]\n",
      "1 (5,) 5 4\n",
      "1\n"
     ]
    }
   ],
   "source": [
    "'''\n",
    "从数值范围创建numpy数组\n",
    "'''\n",
    "arr = np.arange(10,20,2,np.int32) # 10-19 步长为2\n",
    "print(arr)\n",
    "print(arr.ndim,arr.shape,arr.size,arr.itemsize)\n",
    "# np.linspace 等差数列 返回元组(np.array,step)\n",
    "arr = (np.linspace(10,20,5,True,True,np.float64)) # 10-20 5个数\n",
    "print(arr[0].ndim)"
   ]
  },
  {
   "cell_type": "code",
   "execution_count": 29,
   "metadata": {},
   "outputs": [
    {
     "name": "stdout",
     "output_type": "stream",
     "text": [
      "[[False False]\n",
      " [ True  True]] \n",
      "\n",
      "[[3 4]\n",
      " [5 6]] \n",
      "\n",
      "[[-1  0]\n",
      " [ 1  2]] \n",
      "\n",
      "[[2 4]\n",
      " [6 8]] \n",
      "\n",
      "[[ 6  8]\n",
      " [10 12]] \n",
      "\n",
      "[[-4 -4]\n",
      " [-4 -4]] \n",
      "\n",
      "[[ 5 12]\n",
      " [21 32]] \n",
      "\n",
      "[[0.2        0.33333333]\n",
      " [0.42857143 0.5       ]] \n",
      "\n",
      "[[False False]\n",
      " [False False]] \n",
      "\n"
     ]
    }
   ],
   "source": [
    "'''\n",
    "基本元算\n",
    "'''\n",
    "\n",
    "arr = [[1,2],[3,4]]\n",
    "arr2 = [[5,6],[7,8]]\n",
    "arr = np.array(arr)\n",
    "arr2 = np.array(arr2)\n",
    "print(arr > 2,'\\n')\n",
    "print(arr + 2,'\\n')\n",
    "print(arr - 2,'\\n')\n",
    "print(arr * 2,'\\n')\n",
    "print(arr + arr2,'\\n')\n",
    "print(arr - arr2,'\\n')\n",
    "print(arr * arr2,'\\n')\n",
    "print(arr / arr2,'\\n')\n",
    "print(arr > arr2,'\\n')"
   ]
  },
  {
   "cell_type": "code",
   "execution_count": 33,
   "metadata": {},
   "outputs": [
    {
     "name": "stdout",
     "output_type": "stream",
     "text": [
      "(3,)\n",
      "(3, 3)\n",
      "[[0 2 2]\n",
      " [3 5 5]\n",
      " [6 8 8]]\n",
      "[[[ 0  1  2  3]\n",
      "  [ 4  5  6  7]\n",
      "  [ 8  9 10 11]]\n",
      "\n",
      " [[12 13 14 15]\n",
      "  [16 17 18 19]\n",
      "  [20 21 22 23]]]\n"
     ]
    }
   ],
   "source": [
    "'''\n",
    "广播机制\n",
    "NumPy的广播机制是一种强大的功能，它允许在不同形状的数组之间进行数学运算。\n",
    "\n",
    "广播的规则如下：\n",
    "\n",
    "1. 如果两个数组的维度数不相同，那么小维度数组的形状将会在最左边补1。\n",
    "\n",
    "2. 如果两个数组的形状在任何一个维度上都不匹配，那么数组的形状将沿着维度为1的维度扩展以匹配另外一个数组的形状。\n",
    "\n",
    "3. 如果两个数组的形状在任何一个维度上都不匹配并且没有任何一个维度等于1，那么会引发异常。\n",
    "\n",
    "例如，假设我们有一个1D数组和一个2D数组：\n",
    "\n",
    "```python\n",
    "a = np.array([0, 1, 2])\n",
    "b = np.array([[0, 1, 2], [3, 4, 5], [6, 7, 8]])\n",
    "```\n",
    "\n",
    "我们可以将`a`和`b`相加，即使它们的形状不同。这是因为NumPy会将`a`的形状扩展为`(3, 3)`，然后进行相加：\n",
    "\n",
    "```python\n",
    "c = a + b\n",
    "```\n",
    "\n",
    "结果`c`是一个形状为`(3, 3)`的2D数组：\n",
    "\n",
    "```python\n",
    "array([[ 0,  2,  4],\n",
    "       [ 3,  5,  7],\n",
    "       [ 6,  8, 10]])\n",
    "```\n",
    "\n",
    "这就是NumPy的广播机制。它使得我们可以方便地对不同形状的数组进行数学运算。\n",
    "'''\n",
    "\n",
    "a = np.array([0,1,0])\n",
    "b = np.array([[0,1,2],[3,4,5],[6,7,8]])\n",
    "print(a.shape)\n",
    "print(b.shape)\n",
    "print(a + b)\n",
    "print(np.arange(2*3*4).reshape(2,3,4))"
   ]
  },
  {
   "cell_type": "code",
   "execution_count": 60,
   "metadata": {},
   "outputs": [
    {
     "name": "stdout",
     "output_type": "stream",
     "text": [
      "[[0 1 2 3 4]\n",
      " [5 6 7 8 9]]\n",
      "\n",
      "7\n",
      "\n",
      "[[7]]\n",
      "\n",
      "[[[ 0  1  2  3]\n",
      "  [ 4  5  6  7]]\n",
      "\n",
      " [[ 8  9 10 11]\n",
      "  [12 13 14 15]]\n",
      "\n",
      " [[16 17 18 19]\n",
      "  [20 21 22 23]]]\n",
      "\n",
      "[1 2 7]\n",
      "\n",
      "[1 2 7]\n"
     ]
    }
   ],
   "source": [
    "'''\n",
    "索引和切片\n",
    "数组的索引和切片与 Python 中序列的索引和切片操作基本类似，不同点在于：\n",
    "数组切片不会复制内部数组数据，只会生成原始数据的新视图\n",
    "数组还支持多维数组的多维索引和切片，以及高级索引操作\n",
    "'''\n",
    "# 基本索引和切片\n",
    "arr = np.arange(10).reshape(2,5)\n",
    "print(arr)\n",
    "print()\n",
    "print(arr[1,2])\n",
    "print()\n",
    "print(arr[1:2,2:3])\n",
    "\n",
    "# 高阶索引\n",
    "# 把整数列表或者bool数组作为索引\n",
    "print()\n",
    "arr = np.arange(24).reshape(3,2,4)\n",
    "print(arr)\n",
    "print()\n",
    "# print(arr[[2,0,0]].shape) #可以理解为按照索引数组的顺序，将原数组的元素拼接起来，arr[2] + arr[0] + arr[0]\n",
    "# print()\n",
    "# print(arr[[2,0,1],[1,1,0]]) # arr[2,1] + arr[0,1] + arr[1,0]\n",
    "# print()\n",
    "# print(arr[[2,0,1],:,[1,1,0]]) # arr[2,:,1] + arr[0,:,1] + arr[1,:,0]\n",
    "# print()\n",
    "# print(arr[[2,0,1],[1,0,1],[0,0,1]])\n",
    "# print()\n",
    "print(arr[0, [0, 0, 1], [1, 2, 3]]) # 基本索引和高级索引组合使用，小维度数组的形状会广播\n",
    "print()\n",
    "print(arr[[0],[0,0,1],[1,2,3]]) # 基本索引和高级索引组合使用，小维度数组的形状会广播"
   ]
  },
  {
   "cell_type": "code",
   "execution_count": 54,
   "metadata": {},
   "outputs": [
    {
     "name": "stdout",
     "output_type": "stream",
     "text": [
      "[ 0  3  4  7  8 11 12 15 16 19 20 23]\n",
      "[[ 0  1  2  3]\n",
      " [ 8  9 10 11]\n",
      " [16 17 18 19]]\n"
     ]
    }
   ],
   "source": [
    "'''\n",
    "bool数组作为索引\n",
    "'''\n",
    "\n",
    "arr = np.arange(24).reshape(3,2,4)\n",
    "# arr1 = arr % 2 == 0\n",
    "# print(arr[np.array(arr1)])\n",
    "arr1 = [[[True,False,False,True],[True,False,False,True]],\n",
    "        [[True,False,False,True],[True,False,False,True]],\n",
    "        [[True,False,False,True],[True,False,False,True]]]\n",
    "print(arr[arr1])\n",
    "arr2 = [[True,False],[True,False],[True,False]]\n",
    "print(arr[arr2])"
   ]
  },
  {
   "cell_type": "code",
   "execution_count": 59,
   "metadata": {},
   "outputs": [
    {
     "name": "stdout",
     "output_type": "stream",
     "text": [
      "[[[[ 0  1  2  3]\n",
      "   [ 4  5  6  7]\n",
      "   [ 8  9 10 11]]\n",
      "\n",
      "  [[12 13 14 15]\n",
      "   [16 17 18 19]\n",
      "   [20 21 22 23]]]\n",
      "\n",
      "\n",
      " [[[24 25 26 27]\n",
      "   [28 29 30 31]\n",
      "   [32 33 34 35]]\n",
      "\n",
      "  [[36 37 38 39]\n",
      "   [40 41 42 43]\n",
      "   [44 45 46 47]]]]\n",
      "(1, 1, 1, 2) 4\n",
      "(2,) 1\n"
     ]
    }
   ],
   "source": [
    "'''\n",
    "基本切片和高级索引混合\n",
    "'''\n",
    "x = np.arange(48).reshape((2, 2, 3, 4))\n",
    "print(x)\n",
    "\"\"\" 只有一个高阶索引, 不存在分隔 \"\"\"\n",
    "arr1 = x[0:1, 0:1, 0:1, [0, 1]]\n",
    "arr2 = x[[0,0],[0,0],[0,0],[0,1]]\n",
    "print(arr1.shape,arr1.ndim)\n",
    "print(arr2.shape,arr2.ndim) # x[0,0,0,0] + x[0,0,0,1]"
   ]
  },
  {
   "cell_type": "code",
   "execution_count": 94,
   "metadata": {},
   "outputs": [
    {
     "name": "stdout",
     "output_type": "stream",
     "text": [
      "(2, 2, 2, 2)\n",
      "\n",
      "(6, 2, 4)\n",
      "(2, 4, 2)\n",
      "\n",
      "[[[[ 20  26]\n",
      "   [ 68  74]]\n",
      "\n",
      "  [[ 28  39]\n",
      "   [116 127]]]\n",
      "\n",
      "\n",
      " [[[ 20  26]\n",
      "   [ 68  74]]\n",
      "\n",
      "  [[ 28  39]\n",
      "   [116 127]]]\n",
      "\n",
      "\n",
      " [[[ 20  26]\n",
      "   [ 68  74]]\n",
      "\n",
      "  [[ 28  39]\n",
      "   [116 127]]]\n",
      "\n",
      "\n",
      " [[[ 20  26]\n",
      "   [ 68  74]]\n",
      "\n",
      "  [[ 28  39]\n",
      "   [116 127]]]\n",
      "\n",
      "\n",
      " [[[ 20  26]\n",
      "   [ 68  74]]\n",
      "\n",
      "  [[ 28  39]\n",
      "   [116 127]]]\n",
      "\n",
      "\n",
      " [[[ 20  26]\n",
      "   [ 68  74]]\n",
      "\n",
      "  [[ 28  39]\n",
      "   [116 127]]]]\n"
     ]
    }
   ],
   "source": [
    "'''\n",
    "常用函数\n",
    "'''\n",
    "\n",
    "arr = np.arange(8).reshape(2,2,2)\n",
    "arr1 = np.array([\n",
    "    [[3,3],[3,5]],\n",
    "    [[3,3],[3,5]],\n",
    "    ])\n",
    "# print(arr)\n",
    "# print()\n",
    "# print(arr1)\n",
    "# print()\n",
    "# print(arr.T)\n",
    "# print(arr.squeeze())\n",
    "# # print(np.squeeze(arr,1))\n",
    "# print()\n",
    "'''\n",
    "点积的条件：\n",
    "一维：a[0]*b[0] + a[1]*b[1] + a[2]*b[2] + ...\n",
    "二维：点积运算等于矩阵乘法。例如，对于两个二维数组A和B，np.dot(A, B)等于一个新的二维数组，它的每个元素都是A的一行和B的一列的点积。\n",
    "'''\n",
    "print(np.dot(arr, arr1).shape)\n",
    "\n",
    "print()\n",
    "# arr3 = np.array([1,2,3])\n",
    "# arr4 = np.array([0,1,2])\n",
    "# print(np.dot(arr3,arr4))\n",
    "# print()\n",
    "\n",
    "arr5 = np.array([[[1,2,1,2],[3,4,2,2]],[[1,2,1,2],[3,4,2,2]],[[1,2,1,2],[3,4,2,2]],[[1,2,1,2],[3,4,2,2]],[[1,2,1,2],[3,4,2,2]],[[1,2,1,2],[3,4,2,2]]])\n",
    "# arr6 = np.array([[1,0,1],[0,1,1]])\n",
    "arr6 = np.arange(16).reshape(2,4,2)\n",
    "print(arr5.shape)\n",
    "print(arr6.shape)\n",
    "print()\n",
    "# print(np.dot(arr5,arr6))\n",
    "# print()\n",
    "'''\n",
    "在矩阵乘法中，我们将第一个矩阵的行（row）和第二个矩阵的列（column）进行点积运算，以得到结果矩阵的对应元素。\n",
    "对于二维数组（即矩阵），np.dot和np.matmul的效果是一样的，都是进行矩阵乘法。但是对于高维数组，np.dot和np.matmul的行为是不同的。\n",
    "\n",
    "np.dot对于高维数组执行的是一个更为通用的点积运算。具体来说，如果你对两个形状为(a, b, ..., m, n)和(c, d, ..., n, p)的数组进行点积运算，那么结果将是一个形状为(a, b, ..., m, c, d, ..., p)的数组。\n",
    "\n",
    "而np.matmul对于高维数组执行的是一种特殊的乘法运算，它在最后两个维度上进行矩阵乘法，并保持其他维度不变。具体来说，如果你对两个形状为(..., m, n)和(..., n, p)的数组进行矩阵乘法，那么结果将是一个形状为(..., m, p)的数组。\n",
    "\n",
    "因此，对于高维数组，你应该根据你的具体需求来选择使用np.dot还是np.matmul。\n",
    "'''\n",
    "# print(np.matmul(arr5,arr6).shape)\n",
    "# print(np.dot(arr5,arr6) == np.matmul(arr5,arr6))\n",
    "print(arr5.dot(arr6))\n"
   ]
  },
  {
   "cell_type": "code",
   "execution_count": null,
   "metadata": {},
   "outputs": [],
   "source": []
  }
 ],
 "metadata": {
  "kernelspec": {
   "display_name": "base",
   "language": "python",
   "name": "python3"
  },
  "language_info": {
   "codemirror_mode": {
    "name": "ipython",
    "version": 3
   },
   "file_extension": ".py",
   "mimetype": "text/x-python",
   "name": "python",
   "nbconvert_exporter": "python",
   "pygments_lexer": "ipython3",
   "version": "3.11.5"
  }
 },
 "nbformat": 4,
 "nbformat_minor": 2
}
